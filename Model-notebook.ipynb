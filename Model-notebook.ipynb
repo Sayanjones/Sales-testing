{
 "cells": [
  {
   "cell_type": "markdown",
   "id": "b9f7135a-b6f3-4045-b641-75605561bad2",
   "metadata": {},
   "source": [
    "## 2. Forecasting & Modeling Notebook"
   ]
  },
  {
   "cell_type": "markdown",
   "id": "fb59c0cc-1122-4c44-a908-3a3ad925658a",
   "metadata": {},
   "source": [
    "#### 1. Imports and Data Loading"
   ]
  },
  {
   "cell_type": "code",
   "execution_count": 77,
   "id": "ddc0e72a-1c2d-4a2d-9e48-41b653046454",
   "metadata": {},
   "outputs": [],
   "source": [
    "import pandas as pd\n",
    "import numpy as np\n",
    "import matplotlib.pyplot as plt\n",
    "from prophet import Prophet\n",
    "import joblib\n",
    "import os\n",
    "\n",
    "# Load data\n",
    "df = pd.read_csv('sales_data.csv')\n",
    "\n",
    "# Fix column typo\n",
    "df.rename(columns={'SerailNum': 'SerialNum'}, inplace=True)\n",
    "\n",
    "# Parse dates robustly (handles all formats in your file)\n",
    "df['weekend_date'] = pd.to_datetime(df['weekend_date'], dayfirst=True, errors='coerce')\n",
    "\n",
    "# Drop rows with invalid or missing dates/quantities\n",
    "df = df.dropna(subset=['weekend_date', 'quantity'])\n",
    "df['quantity'] = pd.to_numeric(df['quantity'], errors='coerce')\n",
    "df = df.dropna(subset=['quantity'])\n",
    "df['SerialNum'] = df['SerialNum'].astype(str)"
   ]
  },
  {
   "cell_type": "markdown",
   "id": "c1313562-e4f8-430c-a1a8-417ada5b8cff",
   "metadata": {},
   "source": [
    "#### 2. Filling Missing Weeks & Aggregating Duplicates"
   ]
  },
  {
   "cell_type": "code",
   "execution_count": 71,
   "id": "b11197ba-5ee3-45a5-91cd-e26595a53400",
   "metadata": {},
   "outputs": [],
   "source": [
    "def fill_missing_weeks(data):\n",
    "    # Aggregate duplicates (same SerialNum, same weekend_date)\n",
    "    data_agg = data.groupby(['weekend_date', 'SerialNum', 'channel', 'brand', 'category', 'sub_category'], as_index=False)['quantity'].sum()\n",
    "    \n",
    "    # Create a full weekly date range for this product\n",
    "    all_weeks = pd.date_range(data_agg['weekend_date'].min(), data_agg['weekend_date'].max(), freq='W-SAT')\n",
    "    base = {\n",
    "        'SerialNum': data_agg['SerialNum'].iloc[0],\n",
    "        'channel': data_agg['channel'].iloc[0],\n",
    "        'brand': data_agg['brand'].iloc[0],\n",
    "        'category': data_agg['category'].iloc[0],\n",
    "        'sub_category': data_agg['sub_category'].iloc[0]\n",
    "    }\n",
    "    full = pd.DataFrame({'weekend_date': all_weeks})\n",
    "    for col in ['SerialNum', 'channel', 'brand', 'category', 'sub_category']:\n",
    "        full[col] = base[col]\n",
    "    merged = pd.merge(full, data_agg[['weekend_date', 'quantity']], on='weekend_date', how='left')\n",
    "    merged['quantity'] = merged['quantity'].fillna(0)\n",
    "    return merged\n",
    "\n",
    "# Apply to every SerialNum\n",
    "df_filled = pd.concat([fill_missing_weeks(g) for _, g in df.groupby('SerialNum')], ignore_index=True)"
   ]
  },
  {
   "cell_type": "markdown",
   "id": "20b5ce26-4a04-464c-b3be-a6e5d0d01360",
   "metadata": {},
   "source": [
    "#### 3. Train/Validation Split"
   ]
  },
  {
   "cell_type": "code",
   "execution_count": 72,
   "id": "24b5421c-e173-4aa6-8b9c-f7d9601f36eb",
   "metadata": {},
   "outputs": [],
   "source": [
    "# Validation period: Jun-Jul-Aug 2024\n",
    "val_start = pd.Timestamp('2024-06-01')\n",
    "val_end = pd.Timestamp('2024-08-31')\n",
    "\n",
    "# Forecast period: Sept-Oct-Nov 2024\n",
    "forecast_start = pd.Timestamp('2024-09-01')\n",
    "forecast_end = pd.Timestamp('2024-11-30')\n",
    "\n",
    "def split_data(data):\n",
    "    train = data[data['weekend_date'] < val_start].copy()\n",
    "    valid = data[(data['weekend_date'] >= val_start) & (data['weekend_date'] <= val_end)].copy()\n",
    "    return train, valid"
   ]
  },
  {
   "cell_type": "markdown",
   "id": "6f081bdd-c5b1-47ca-98b3-cd5e65238ec4",
   "metadata": {},
   "source": [
    "#### 4. Modeling, Validation and Forecasting"
   ]
  },
  {
   "cell_type": "code",
   "execution_count": 73,
   "id": "e086d8b2-5f62-4e35-92ce-f2cdf803796c",
   "metadata": {},
   "outputs": [
    {
     "name": "stderr",
     "output_type": "stream",
     "text": [
      "01:18:59 - cmdstanpy - INFO - Chain [1] start processing\n",
      "01:19:00 - cmdstanpy - INFO - Chain [1] done processing\n",
      "C:\\Users\\KIIT\\AppData\\Local\\Temp\\ipykernel_10224\\2942445104.py:28: DeprecationWarning: DataFrameGroupBy.apply operated on the grouping columns. This behavior is deprecated, and in a future version of pandas the grouping columns will be excluded from the operation. Either pass `include_groups=False` to exclude the groupings or explicitly select the grouping columns after groupby to silence this warning.\n",
      "  .apply(lambda x: 1 - np.sum(np.abs(x['yhat'] - x['quantity'])) / np.sum(x['quantity']) if np.sum(x['quantity']) > 0 else np.nan)\n",
      "01:19:00 - cmdstanpy - INFO - Chain [1] start processing\n",
      "01:19:01 - cmdstanpy - INFO - Chain [1] done processing\n",
      "C:\\Users\\KIIT\\AppData\\Local\\Temp\\ipykernel_10224\\2942445104.py:28: DeprecationWarning: DataFrameGroupBy.apply operated on the grouping columns. This behavior is deprecated, and in a future version of pandas the grouping columns will be excluded from the operation. Either pass `include_groups=False` to exclude the groupings or explicitly select the grouping columns after groupby to silence this warning.\n",
      "  .apply(lambda x: 1 - np.sum(np.abs(x['yhat'] - x['quantity'])) / np.sum(x['quantity']) if np.sum(x['quantity']) > 0 else np.nan)\n",
      "01:19:01 - cmdstanpy - INFO - Chain [1] start processing\n",
      "01:19:01 - cmdstanpy - INFO - Chain [1] done processing\n",
      "C:\\Users\\KIIT\\AppData\\Local\\Temp\\ipykernel_10224\\2942445104.py:28: DeprecationWarning: DataFrameGroupBy.apply operated on the grouping columns. This behavior is deprecated, and in a future version of pandas the grouping columns will be excluded from the operation. Either pass `include_groups=False` to exclude the groupings or explicitly select the grouping columns after groupby to silence this warning.\n",
      "  .apply(lambda x: 1 - np.sum(np.abs(x['yhat'] - x['quantity'])) / np.sum(x['quantity']) if np.sum(x['quantity']) > 0 else np.nan)\n",
      "01:19:02 - cmdstanpy - INFO - Chain [1] start processing\n",
      "01:19:02 - cmdstanpy - INFO - Chain [1] done processing\n",
      "C:\\Users\\KIIT\\AppData\\Local\\Temp\\ipykernel_10224\\2942445104.py:28: DeprecationWarning: DataFrameGroupBy.apply operated on the grouping columns. This behavior is deprecated, and in a future version of pandas the grouping columns will be excluded from the operation. Either pass `include_groups=False` to exclude the groupings or explicitly select the grouping columns after groupby to silence this warning.\n",
      "  .apply(lambda x: 1 - np.sum(np.abs(x['yhat'] - x['quantity'])) / np.sum(x['quantity']) if np.sum(x['quantity']) > 0 else np.nan)\n",
      "C:\\Users\\KIIT\\AppData\\Local\\Temp\\ipykernel_10224\\2942445104.py:40: SettingWithCopyWarning: \n",
      "A value is trying to be set on a copy of a slice from a DataFrame.\n",
      "Try using .loc[row_indexer,col_indexer] = value instead\n",
      "\n",
      "See the caveats in the documentation: https://pandas.pydata.org/pandas-docs/stable/user_guide/indexing.html#returning-a-view-versus-a-copy\n",
      "  forecast_needed['SerialNum'] = serial\n"
     ]
    }
   ],
   "source": [
    "results = []\n",
    "accuracy_report = []\n",
    "\n",
    "for serial in df_filled['SerialNum'].unique():\n",
    "    data = df_filled[df_filled['SerialNum'] == serial].copy()\n",
    "    train, valid = split_data(data)\n",
    "    prophet_train = train[['weekend_date', 'quantity']].rename(columns={'weekend_date': 'ds', 'quantity': 'y'})\n",
    "    \n",
    "    # Prophet model\n",
    "    model = Prophet(weekly_seasonality=True, yearly_seasonality=True, daily_seasonality=False)\n",
    "    model.fit(prophet_train)\n",
    "    \n",
    "    # Save model\n",
    "    os.makedirs('models', exist_ok=True)\n",
    "    joblib.dump(model, f'models/prophet_serial_{serial}.pkl')\n",
    "    \n",
    "    # Validation forecast\n",
    "    periods_val = valid['weekend_date'].nunique()\n",
    "    future_val = model.make_future_dataframe(periods=periods_val, freq='W-SAT')\n",
    "    future_val = future_val[future_val['ds'].between(val_start, val_end)]\n",
    "    forecast_val = model.predict(future_val)\n",
    "    val_results = valid[['weekend_date', 'quantity']].merge(\n",
    "        forecast_val[['ds', 'yhat']], left_on='weekend_date', right_on='ds', how='left'\n",
    "    )\n",
    "    val_results['month'] = val_results['weekend_date'].dt.to_period('M')\n",
    "    monthly_accuracy = (\n",
    "        val_results.groupby('month')\n",
    "        .apply(lambda x: 1 - np.sum(np.abs(x['yhat'] - x['quantity'])) / np.sum(x['quantity']) if np.sum(x['quantity']) > 0 else np.nan)\n",
    "        .reset_index().rename(columns={0: 'accuracy'})\n",
    "    )\n",
    "    monthly_accuracy['SerialNum'] = serial\n",
    "    accuracy_report.append(monthly_accuracy)\n",
    "    \n",
    "    # Forecast for Sept-Nov 2024\n",
    "    last_date = data['weekend_date'].max()\n",
    "    weeks_to_forecast = ((forecast_end - last_date).days // 7)\n",
    "    future = model.make_future_dataframe(periods=weeks_to_forecast, freq='W-SAT')\n",
    "    future_forecast = model.predict(future)\n",
    "    forecast_needed = future_forecast[future_forecast['ds'].between(forecast_start, forecast_end)]\n",
    "    forecast_needed['SerialNum'] = serial\n",
    "    results.append(forecast_needed[['ds', 'SerialNum', 'yhat']].rename(columns={'ds': 'weekend_date', 'yhat': 'forecast_quantity'}))\n",
    "\n",
    "# Combine all forecasts and accuracy reports\n",
    "forecast_df = pd.concat(results, ignore_index=True)\n",
    "accuracy_df = pd.concat(accuracy_report, ignore_index=True)"
   ]
  },
  {
   "cell_type": "markdown",
   "id": "9f8af079-ad24-415d-b61f-2597002490d8",
   "metadata": {},
   "source": [
    "#### 5. Save and Present Results"
   ]
  },
  {
   "cell_type": "code",
   "execution_count": 74,
   "id": "d1223fdf-4560-4654-b8b6-2dbe50fa754a",
   "metadata": {},
   "outputs": [
    {
     "name": "stdout",
     "output_type": "stream",
     "text": [
      "Sample Forecast for Sept–Nov 2024:\n",
      "  weekend_date SerialNum  forecast_quantity\n",
      "0   2024-09-07         5         451.228212\n",
      "1   2024-09-14         5         637.747514\n",
      "2   2024-09-21         5         596.884262\n",
      "3   2024-09-28         5         333.765216\n",
      "4   2024-10-05         5          59.603762\n",
      "Monthly Validation Accuracy (Jun–Aug 2024):\n",
      "     month   accuracy SerialNum\n",
      "0  2024-06   0.649995         1\n",
      "1  2024-07   0.332449         1\n",
      "2  2024-08   0.243575         1\n",
      "3  2024-06   0.407209         2\n",
      "4  2024-07   0.502371         2\n",
      "5  2024-08   0.127261         2\n",
      "6  2024-06   0.314458         4\n",
      "7  2024-07   0.293139         4\n",
      "8  2024-08   0.483990         4\n",
      "9  2024-06 -59.094687         5\n"
     ]
    }
   ],
   "source": [
    "# Save outputs\n",
    "forecast_df.to_csv('forecast_sept_nov_2024.csv', index=False)\n",
    "accuracy_df.to_csv('validation_accuracy_jun_aug_2024.csv', index=False)\n",
    "\n",
    "# Show sample forecast\n",
    "print(\"Sample Forecast for Sept–Nov 2024:\")\n",
    "print(forecast_df.head())\n",
    "\n",
    "# Show accuracy table\n",
    "print(\"Monthly Validation Accuracy (Jun–Aug 2024):\")\n",
    "print(accuracy_df)"
   ]
  },
  {
   "cell_type": "markdown",
   "id": "c02917ba-0bfb-467a-8933-7f2c0625fc1d",
   "metadata": {},
   "source": [
    "#### Summary"
   ]
  },
  {
   "cell_type": "code",
   "execution_count": 76,
   "id": "28b8ed40-538c-4f1f-867c-74d1c3ce2ac6",
   "metadata": {},
   "outputs": [
    {
     "name": "stdout",
     "output_type": "stream",
     "text": [
      "Forecasts for September–November 2024 generated for each SerialNum.\n",
      "Validation accuracy for June–August 2024 is reported per month and SerialNum.\n",
      "Models are saved in the 'models/' directory for reproducibility.\n"
     ]
    }
   ],
   "source": [
    "print(\"Forecasts for September–November 2024 generated for each SerialNum.\")\n",
    "print(\"Validation accuracy for June–August 2024 is reported per month and SerialNum.\")\n",
    "print(\"Models are saved in the 'models/' directory for reproducibility.\")"
   ]
  },
  {
   "cell_type": "code",
   "execution_count": null,
   "id": "faf777ff-c06f-4a80-9e34-bae8b83cf0ae",
   "metadata": {},
   "outputs": [],
   "source": []
  }
 ],
 "metadata": {
  "kernelspec": {
   "display_name": "Python 3 (ipykernel)",
   "language": "python",
   "name": "python3"
  },
  "language_info": {
   "codemirror_mode": {
    "name": "ipython",
    "version": 3
   },
   "file_extension": ".py",
   "mimetype": "text/x-python",
   "name": "python",
   "nbconvert_exporter": "python",
   "pygments_lexer": "ipython3",
   "version": "3.12.1"
  }
 },
 "nbformat": 4,
 "nbformat_minor": 5
}
